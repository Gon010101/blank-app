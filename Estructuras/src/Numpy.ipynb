{
  "cells": [
    {
      "cell_type": "markdown",
      "id": "613b2e6f",
      "metadata": {
        "id": "613b2e6f"
      },
      "source": [
        "# 1. Introducción y configuración"
      ]
    },
    {
      "cell_type": "markdown",
      "id": "6cf33041",
      "metadata": {
        "id": "6cf33041"
      },
      "source": [
        "## 1.1 ¿Qué es NumPy?"
      ]
    },
    {
      "cell_type": "markdown",
      "id": "a041330b",
      "metadata": {
        "id": "a041330b"
      },
      "source": [
        "NumPy (Numerical Python) es la librería fundamental para el cálculo científico en Python. Permite trabajar con arreglos multidimensionales de forma eficiente, tanto en memoria como en velocidad."
      ]
    },
    {
      "cell_type": "markdown",
      "id": "6555109e",
      "metadata": {
        "id": "6555109e"
      },
      "source": [
        "## 1.2 Instalación e importación"
      ]
    },
    {
      "cell_type": "code",
      "execution_count": 1,
      "id": "cb0c749c",
      "metadata": {
        "id": "cb0c749c",
        "outputId": "b55c4158-c364-4ce1-b959-d0f7edb98271",
        "colab": {
          "base_uri": "https://localhost:8080/"
        }
      },
      "outputs": [
        {
          "output_type": "stream",
          "name": "stdout",
          "text": [
            "Requirement already satisfied: numpy in /usr/local/lib/python3.12/dist-packages (2.0.2)\n"
          ]
        }
      ],
      "source": [
        "# Si aún no la tienes instalada\n",
        "!pip install numpy"
      ]
    },
    {
      "cell_type": "code",
      "execution_count": 2,
      "id": "c64b2593",
      "metadata": {
        "id": "c64b2593"
      },
      "outputs": [],
      "source": [
        "# Importamos NumPy con su alias habitual\n",
        "# Numpy es el nombre del paquete\n",
        "# np es el alias que usaremos para referirnos a él\n",
        "import numpy as np"
      ]
    },
    {
      "cell_type": "markdown",
      "id": "bfe31ebc",
      "metadata": {
        "id": "bfe31ebc"
      },
      "source": [
        "# 2. Teoría Básica de Arrays"
      ]
    },
    {
      "cell_type": "markdown",
      "id": "a967d308",
      "metadata": {
        "id": "a967d308"
      },
      "source": [
        "## 2.1 ¿Por qué usar arrays en vez de listas?\n"
      ]
    },
    {
      "cell_type": "markdown",
      "id": "639ae7e2",
      "metadata": {
        "id": "639ae7e2"
      },
      "source": [
        "- Almacenan datos homogéneos (todos del mismo tipo).\n",
        "\n",
        "- Operaciones vectorizadas: matemáticas en todo el array sin bucles explícitos.\n",
        "\n",
        "- Mejor rendimiento y menor uso de memoria."
      ]
    },
    {
      "cell_type": "markdown",
      "id": "d1a6a73c",
      "metadata": {
        "id": "d1a6a73c"
      },
      "source": [
        "## 2.2 Creación de arrays"
      ]
    },
    {
      "cell_type": "code",
      "execution_count": null,
      "id": "0cd1990f",
      "metadata": {
        "id": "0cd1990f"
      },
      "outputs": [],
      "source": [
        "# A partir de listas o tuplas\n",
        "a = np.array([1, 2, 3, 4])\n",
        "b = np.array([[1,2,3], [4,5,6]])"
      ]
    },
    {
      "cell_type": "code",
      "execution_count": null,
      "id": "05e8c722",
      "metadata": {
        "id": "05e8c722"
      },
      "outputs": [],
      "source": [
        "print(\"Array a:\\n\", a)\n",
        "print(\"Array b:\\n\", b)"
      ]
    },
    {
      "cell_type": "code",
      "execution_count": null,
      "id": "b7de0737",
      "metadata": {
        "id": "b7de0737"
      },
      "outputs": [],
      "source": [
        "# A partir de funciones específicas\n",
        "zeros = np.zeros((2,3))        # array de ceros 2×3\n",
        "ones  = np.ones((3,2))         # array de unos 3×2\n",
        "eye   = np.eye(4)              # matriz identidad 4×4\n",
        "ar    = np.arange(0, 10, 2)    # [0,2,4,6,8]\n",
        "ls    = np.linspace(0, 1, 5)   # [0.,0.25,0.5,0.75,1.]\n"
      ]
    },
    {
      "cell_type": "code",
      "execution_count": null,
      "id": "8d68bb6f",
      "metadata": {
        "id": "8d68bb6f"
      },
      "outputs": [],
      "source": [
        "print(\"Array zeros:\\n\", zeros)\n",
        "print(\"Array ones:\\n\", ones)\n",
        "print(\"Array eye:\\n\", eye)\n",
        "print(\"Array ar:\\n\", ar)\n",
        "print(\"Array ls:\\n\", ls)"
      ]
    },
    {
      "cell_type": "markdown",
      "id": "33ac096b",
      "metadata": {
        "id": "33ac096b"
      },
      "source": [
        "## 2.3 Atributos de los arrays (arreglos)"
      ]
    },
    {
      "cell_type": "markdown",
      "id": "77726f36",
      "metadata": {
        "id": "77726f36"
      },
      "source": [
        "| Atributo   | Descripción                               |\n",
        "|------------|-------------------------------------------|\n",
        "| `ndim`     | Número de dimensiones                     |\n",
        "| `shape`    | Tupla con el tamaño en cada dimensión     |\n",
        "| `size`     | Número total de elementos                 |\n",
        "| `dtype`    | Tipo de datos de los elementos            |\n",
        "| `itemsize` | Bytes que ocupa cada elemento             |\n"
      ]
    },
    {
      "cell_type": "code",
      "execution_count": null,
      "id": "fc60cae1",
      "metadata": {
        "id": "fc60cae1"
      },
      "outputs": [],
      "source": [
        "print(a.ndim, a.shape, a.size, a.dtype, a.itemsize)\n"
      ]
    },
    {
      "cell_type": "markdown",
      "id": "2819290c",
      "metadata": {
        "id": "2819290c"
      },
      "source": [
        "# 3. Operaciones Básicas"
      ]
    },
    {
      "cell_type": "markdown",
      "id": "06ee742c",
      "metadata": {
        "id": "06ee742c"
      },
      "source": [
        "NumPy aplica operaciones elemento a elemento:"
      ]
    },
    {
      "cell_type": "code",
      "execution_count": null,
      "id": "e381c18a",
      "metadata": {
        "id": "e381c18a"
      },
      "outputs": [],
      "source": [
        "x = np.array([10, 20, 30])\n",
        "y = np.array([1, 2, 3])\n",
        "\n",
        "# Suma y resta\n",
        "print(x + y, x - y)\n",
        "\n",
        "# Multiplicación y división\n",
        "print(x * 2, x / y)\n",
        "\n",
        "# Funciones universales (ufuncs)\n",
        "print(np.sin(x), np.exp(y))\n"
      ]
    },
    {
      "cell_type": "markdown",
      "id": "cfc55ed5",
      "metadata": {
        "id": "cfc55ed5"
      },
      "source": [
        "En términos matemáticos, si\n",
        "\n",
        "$$\n",
        "\\mathbf{x} = [x_1,\\,x_2,\\,\\dots,\\,x_n]\n",
        "\\quad\\text{y}\\quad\n",
        "\\mathbf{y} = [y_1,\\,y_2,\\,\\dots,\\,y_n]\n",
        "$$\n",
        "\n",
        "entonces:\n",
        "\n",
        "$$\n",
        "\\mathbf{x} + \\mathbf{y}\n",
        "= [\\,x_1 + y_1,\\;x_2 + y_2,\\;\\dots,\\;x_n + y_n\\,]\n",
        "$$\n",
        "\n",
        "$$\n",
        "\\mathbf{x} - \\mathbf{y}\n",
        "= [\\,x_1 - y_1,\\;x_2 - y_2,\\;\\dots,\\;x_n - y_n\\,]\n",
        "$$\n",
        "\n",
        "Multiplicación por un escalar \\(c\\):\n",
        "\n",
        "$$\n",
        "c \\cdot \\mathbf{x}\n",
        "= [\\,c\\,x_1,\\;c\\,x_2,\\;\\dots,\\;c\\,x_n\\,]\n",
        "$$\n",
        "\n",
        "División elemento a elemento:\n",
        "\n",
        "$$\n",
        "\\mathbf{x} \\mathbin{/} \\mathbf{y}\n",
        "$$"
      ]
    },
    {
      "cell_type": "markdown",
      "id": "50ea7b8e",
      "metadata": {
        "id": "50ea7b8e"
      },
      "source": [
        "Multiplicación de matrices"
      ]
    },
    {
      "cell_type": "code",
      "execution_count": null,
      "id": "d730090f",
      "metadata": {
        "id": "d730090f"
      },
      "outputs": [],
      "source": [
        "import numpy as np\n",
        "\n",
        "A = np.array([[1, 2],\n",
        "              [3, 4]])       # Matriz 2×2\n",
        "\n",
        "B = np.array([[5, 6],\n",
        "              [7, 8]])       # Matriz 2×2\n",
        "\n",
        "# Con np.dot\n",
        "C1 = np.dot(A, B)\n",
        "\n",
        "# Con np.matmul o @\n",
        "C2 = A @ B\n",
        "\n",
        "print(C1, C2, sep=\"\\n\\n\")"
      ]
    },
    {
      "cell_type": "markdown",
      "id": "f2e8f2d6",
      "metadata": {
        "id": "f2e8f2d6"
      },
      "source": [
        "# 4. Funciones útiles"
      ]
    },
    {
      "cell_type": "markdown",
      "id": "3a273f42",
      "metadata": {
        "id": "3a273f42"
      },
      "source": [
        "| Función               | Descripción                                  |\n",
        "|-----------------------|----------------------------------------------|\n",
        "| `np.sum()`            | Suma de todos los elementos                  |\n",
        "| `np.min(), np.max()`  | Valor mínimo y máximo                        |\n",
        "| `np.mean()`           | Media aritmética                             |\n",
        "| `np.std()`            | Desviación estándar                          |\n",
        "| `np.reshape()`        | Cambio de forma sin copiar datos             |\n",
        "| `np.flatten()`        | Aplana un array multidimensional a 1D        |\n",
        "| `np.sort()`           | Ordena los elementos                         |\n",
        "| `np.unique()`         | Valores únicos y conteo                      |\n"
      ]
    },
    {
      "cell_type": "code",
      "execution_count": null,
      "id": "a152c8b2",
      "metadata": {
        "id": "a152c8b2"
      },
      "outputs": [],
      "source": [
        "data = np.random.randint(0, 100, size=(4,5))\n",
        "print(\"Media:\", data.mean(), \"Max:\", data.max(), \"Desv:\", data.std())\n",
        "\n",
        "flat = data.flatten()\n",
        "print(\"Array aplanado:\", flat)\n",
        "\n",
        "reshaped = data.reshape(5,4)\n",
        "print(\"Array reestructurado:\\n\", reshaped)\n"
      ]
    },
    {
      "cell_type": "markdown",
      "id": "d483f288",
      "metadata": {
        "id": "d483f288"
      },
      "source": [
        "# 5. Indexación y Slicing"
      ]
    },
    {
      "cell_type": "markdown",
      "id": "41909a8e",
      "metadata": {
        "id": "41909a8e"
      },
      "source": [
        "## 5.1 Indexación básica"
      ]
    },
    {
      "cell_type": "code",
      "execution_count": null,
      "id": "8856e481",
      "metadata": {
        "id": "8856e481"
      },
      "outputs": [],
      "source": [
        "arr = np.arange(10)        # [0,1,2,3,4,5,6,7,8,9]\n",
        "print(arr[0], arr[-1])     # Primer y último elemento\n",
        "\n",
        "mat = np.arange(9).reshape(3,3)\n",
        "print(mat[1,2])            # Fila 1, columna 2\n"
      ]
    },
    {
      "cell_type": "markdown",
      "id": "323c04be",
      "metadata": {
        "id": "323c04be"
      },
      "source": [
        "## 5.2 Slicing en 1D"
      ]
    },
    {
      "cell_type": "markdown",
      "id": "85b54428",
      "metadata": {
        "id": "85b54428"
      },
      "source": [
        "La sintaxis general es arr[start:stop:step]."
      ]
    },
    {
      "cell_type": "code",
      "execution_count": null,
      "id": "9b0e63f3",
      "metadata": {
        "id": "9b0e63f3"
      },
      "outputs": [],
      "source": [
        "print(arr[2:8])       # [2,3,4,5,6,7]\n",
        "print(arr[:5])        # [0..4]\n",
        "print(arr[5:])        # [5..9]\n",
        "print(arr[::2])       # Saltos de 2 → [0,2,4,6,8]\n",
        "print(arr[::-1])      # Invertido → [9,8,7,6,5,4,3,2,1,0]"
      ]
    },
    {
      "cell_type": "markdown",
      "id": "38de4559",
      "metadata": {
        "id": "38de4559"
      },
      "source": [
        "## 5.3 Slicing en 2D"
      ]
    },
    {
      "cell_type": "code",
      "execution_count": null,
      "id": "2a56f2f7",
      "metadata": {
        "id": "2a56f2f7"
      },
      "outputs": [],
      "source": [
        "# Seleccionar submatriz de filas 0-1 y columnas 1-2\n",
        "print(mat[0:2, 1:3])\n",
        "\n",
        "# Todas las filas, columna 0\n",
        "print(mat[:, 0])\n",
        "\n",
        "# Filas 1 y 2, todas las columnas\n",
        "print(mat[1:3, :])\n"
      ]
    },
    {
      "cell_type": "markdown",
      "id": "34321671",
      "metadata": {
        "id": "34321671"
      },
      "source": [
        "## 5.4 Máscara booleana"
      ]
    },
    {
      "cell_type": "code",
      "execution_count": null,
      "id": "c39a47c0",
      "metadata": {
        "id": "c39a47c0"
      },
      "outputs": [],
      "source": [
        "mask = arr % 2 == 0\n",
        "print(arr[mask])      # Filtra los pares\n",
        "\n",
        "# Combinando condiciones\n",
        "print(arr[(arr>3) & (arr<8)])  # [4,5,6,7]\n"
      ]
    },
    {
      "cell_type": "markdown",
      "id": "176ea224",
      "metadata": {
        "id": "176ea224"
      },
      "source": [
        "# Práctica"
      ]
    },
    {
      "cell_type": "markdown",
      "id": "e1768a1d",
      "metadata": {
        "id": "e1768a1d"
      },
      "source": [
        "1. Crea un array con 10 edades aleatorias y calcula la media, mínima y máxima.\n",
        "\n",
        "2. Genera un array 5×5 con valores aleatorios entre 0 y 1; extrae su fila central.\n",
        "\n",
        "3. Dado un array de 20 enteros, reemplaza los valores impares por -1.\n",
        "\n",
        "4. Usa reshape para convertir un array de 16 elementos en una matriz 4×4 y muestra su diagonal principal."
      ]
    },
    {
      "cell_type": "code",
      "execution_count": 63,
      "id": "69c3c348",
      "metadata": {
        "id": "69c3c348",
        "outputId": "9b745927-6a5d-4e10-cbc0-a6ecb374e44c",
        "colab": {
          "base_uri": "https://localhost:8080/"
        }
      },
      "outputs": [
        {
          "output_type": "stream",
          "name": "stdout",
          "text": [
            "[[76 64 29 96  7  8 33 12 14 99]]\n",
            "7\n",
            "99\n",
            "La media es: 43.8 la edad minima es: 7 y la edad maxima: 99\n",
            "[[1.15272744e-01 6.51625716e-01 6.92538356e-01 7.25940634e-01\n",
            "  2.16700180e-02]\n",
            " [9.08957570e-01 1.59058859e-01 4.35713844e-01 2.62151708e-06\n",
            "  6.12315063e-01]\n",
            " [2.59350155e-01 5.12554307e-01 4.57034110e-01 1.23904692e-03\n",
            "  3.36628235e-01]\n",
            " [9.19585090e-01 9.84377459e-01 4.05850140e-01 5.28302301e-01\n",
            "  8.15909807e-01]\n",
            " [6.84579730e-01 7.18111295e-01 8.32522397e-02 3.47295638e-01\n",
            "  6.98929036e-01]]\n",
            "Array original: [50 96 40 85 19 30 67 45 32 98 13 38 56 52 79 77 64 96 19 20] \n",
            "Array cambiado:  [50 96 40 -1 -1 30 -1 -1 32 98 -1 38 56 52 -1 -1 64 96 -1 20]\n"
          ]
        }
      ],
      "source": [
        "# Escribe aquí tu código\n",
        "import numpy as np\n",
        "edades = np.random.randint(0, 100,size=(1,10))\n",
        "print(edades)\n",
        "media= np.mean(edades)\n",
        "minimo= edades.min()\n",
        "print(minimo)\n",
        "\n",
        "maximo= np.max(edades)\n",
        "\n",
        "print(maximo)\n",
        "\n",
        "print(\"La media es:\",media,\"la edad minima es:\",minimo,\"y la edad maxima:\",maximo)\n",
        "np.min(edades), np.max(edades)\n",
        "\n",
        "#ej2\n",
        "array2 = np.random.rand(5,5)\n",
        "print(array2)\n",
        "arraymodificado=array2[2]\n",
        "arraymodificado\n",
        "\n",
        "#ej3\n",
        "array3=np.random.randint(100,size=20)\n",
        "array3\n",
        "array3modificado=array3.copy()\n",
        "array3modificado[array3modificado % 2 !=0] = -1\n",
        "print(f'Array original: {array3} \\n'\n",
        "      f'Array cambiado:  {array3modificado}')\n"
      ]
    },
    {
      "cell_type": "code",
      "source": [
        "#ej3\n",
        "array3=np.random.randint(100,size=20)\n",
        "\n",
        "array3modificado=array3.copy()\n",
        "\n",
        "for index in range(len(array3modificado)):\n",
        "  if array3modificado[index] % 2 !=0:\n",
        "    array3modificado[index] = -1\n",
        "print(f'Array original: {array3} \\n'\n",
        "      f'Array cambiado:  {array3modificado}')\n",
        "\n",
        "for i, elemento in enumerate(array3modificado):\n",
        "  if elemento %2 !=0:\n",
        "    array3modificado[index]= -1\n",
        "\n",
        "print(f'Array original:{array3}\\n\n",
        "f'Array modificado: {Array modificado}')"
      ],
      "metadata": {
        "id": "jaxhPjgKsihX",
        "outputId": "e1a6f9d6-6773-47bc-fd66-e35a772cd4a7",
        "colab": {
          "base_uri": "https://localhost:8080/"
        }
      },
      "id": "jaxhPjgKsihX",
      "execution_count": 38,
      "outputs": [
        {
          "output_type": "stream",
          "name": "stdout",
          "text": [
            "Array original: [67 90 10 39 57 35 17 42 86 92  2 13 31 35 14 75 71 32 61 82] \n",
            "Array cambiado:  [-1 90 10 -1 -1 -1 -1 42 86 92  2 -1 -1 -1 14 -1 -1 32 -1 82]\n"
          ]
        }
      ]
    },
    {
      "cell_type": "code",
      "source": [
        "\n",
        "#ej 4\n",
        "array4= np.arange(0,16)\n",
        "print(array4)\n",
        "\n",
        "array4x4=array4.reshape(4,4)\n",
        "print(array4x4)\n",
        "\n",
        "diagonal=[]\n",
        "for i in range(len(array4x4)):\n",
        "    diagonal.append(array4x4[i,i])\n",
        "\n",
        "print(diagonal)\n"
      ],
      "metadata": {
        "id": "q3LW2-abu5xw",
        "outputId": "2bc8faf3-9924-4f9e-ee50-091ba8dd4714",
        "colab": {
          "base_uri": "https://localhost:8080/"
        }
      },
      "id": "q3LW2-abu5xw",
      "execution_count": 65,
      "outputs": [
        {
          "output_type": "stream",
          "name": "stdout",
          "text": [
            "[ 0  1  2  3  4  5  6  7  8  9 10 11 12 13 14 15]\n",
            "[[ 0  1  2  3]\n",
            " [ 4  5  6  7]\n",
            " [ 8  9 10 11]\n",
            " [12 13 14 15]]\n",
            "[np.int64(0), np.int64(5), np.int64(10), np.int64(15)]\n"
          ]
        }
      ]
    },
    {
      "cell_type": "markdown",
      "id": "4f10a1f2",
      "metadata": {
        "id": "4f10a1f2"
      },
      "source": [
        "Crea dos arrays:\n",
        "\n",
        "- A de forma (3, 1) con valores aleatorios de 0 a 10.\n",
        "\n",
        "- B de forma (1, 4) con valores aleatorios de 0 a 10.\n",
        "\n",
        "Suma A + B y observa la forma del resultado.\n",
        "\n",
        "Multiplica cada fila de la matriz de resultados por un vector [1, 2, 3, 4] usando broadcasting."
      ]
    },
    {
      "cell_type": "code",
      "execution_count": 72,
      "id": "495dc72c",
      "metadata": {
        "id": "495dc72c",
        "outputId": "c634882a-52de-4f47-8da1-80e245674a47",
        "colab": {
          "base_uri": "https://localhost:8080/"
        }
      },
      "outputs": [
        {
          "output_type": "stream",
          "name": "stdout",
          "text": [
            "matriz A:[[6]\n",
            " [0]\n",
            " [1]]\n",
            " matrizB:[[3 2 3 3]] \n",
            "A+B[[9 8 9 9]\n",
            " [3 2 3 3]\n",
            " [4 3 4 4]]\n",
            "[[ 9 16 27 36]\n",
            " [ 3  4  9 12]\n",
            " [ 4  6 12 16]]\n"
          ]
        }
      ],
      "source": [
        "A= np.random.randint(0,11,size=(3,1))\n",
        "B= np.random.randint(0,11,size=(1,4))\n",
        "\n",
        "suma=A+B\n",
        "print(f'matriz A:{A}\\n 'f'matrizB:{B} \\n' f'A+B{suma}')\n",
        "\n",
        "\n",
        "vector= np.array([1,2,3,4])\n",
        "\n",
        "mult=suma * vector\n",
        "print(mult)"
      ]
    },
    {
      "cell_type": "markdown",
      "id": "27ef3dd5",
      "metadata": {
        "id": "27ef3dd5"
      },
      "source": [
        "Slicing en 2D (submatriz interior y rotación)\n",
        "\n",
        "- Genera un array 6×6 con valores del 1 al 36 (por ejemplo con arange y reshape).\n",
        "\n",
        "- Usa slicing para extraer la submatriz interior 4×4 (eliminas la primera y la última fila y columna).\n",
        "\n",
        "- A continuación, aplica un slicing con paso negativo para rotar esa submatriz 180°.\n",
        "\n",
        "- Imprime la matriz original, la submatriz interior y la submatriz rotada.\n"
      ]
    },
    {
      "cell_type": "code",
      "execution_count": 93,
      "id": "f0cc5bec",
      "metadata": {
        "id": "f0cc5bec",
        "outputId": "1711207d-2697-476b-baad-4f1dcc0e3ba4",
        "colab": {
          "base_uri": "https://localhost:8080/"
        }
      },
      "outputs": [
        {
          "output_type": "stream",
          "name": "stdout",
          "text": [
            "[[ 1  2  3  4  5  6]\n",
            " [ 7  8  9 10 11 12]\n",
            " [13 14 15 16 17 18]\n",
            " [19 20 21 22 23 24]\n",
            " [25 26 27 28 29 30]\n",
            " [31 32 33 34 35 36]]\n",
            "[[ 1  2  3  4]\n",
            " [ 7  8  9 10]\n",
            " [13 14 15 16]\n",
            " [19 20 21 22]]\n",
            "[[36 35 34 33 32 31]\n",
            " [30 29 28 27 26 25]\n",
            " [24 23 22 21 20 19]\n",
            " [18 17 16 15 14 13]\n",
            " [12 11 10  9  8  7]\n",
            " [ 6  5  4  3  2  1]]\n"
          ]
        }
      ],
      "source": [
        "\n",
        "A66=np.arange(1,37)\n",
        "A66=A66.reshape(6,6)\n",
        "\n",
        "print(A66)\n",
        "\n",
        "#slicing\n",
        "\n",
        "print(A66[0:4, 0:4])\n",
        "\n",
        "rotada= A66[::-1,::-1]\n",
        "print(rotada)"
      ]
    },
    {
      "cell_type": "markdown",
      "id": "fc619525",
      "metadata": {
        "id": "fc619525"
      },
      "source": [
        "Con una matriz 5×5 de valores aleatorios:\n",
        "\n",
        "- Calcula la media, mediana y desviación estándar global.\n",
        "\n",
        "- Obtén la suma de cada columna y de cada fila.\n",
        "\n",
        "Aplica np.sin y np.exp elemento a elemento y compara resultados."
      ]
    },
    {
      "cell_type": "code",
      "execution_count": 110,
      "id": "52ac0da2",
      "metadata": {
        "id": "52ac0da2",
        "outputId": "fb4706a6-57a4-4422-b7e8-64489388daa6",
        "colab": {
          "base_uri": "https://localhost:8080/",
          "height": 176
        }
      },
      "outputs": [
        {
          "output_type": "error",
          "ename": "NameError",
          "evalue": "name 'size' is not defined",
          "traceback": [
            "\u001b[0;31m---------------------------------------------------------------------------\u001b[0m",
            "\u001b[0;31mNameError\u001b[0m                                 Traceback (most recent call last)",
            "\u001b[0;32m/tmp/ipython-input-2187037659.py\u001b[0m in \u001b[0;36m<cell line: 0>\u001b[0;34m()\u001b[0m\n\u001b[1;32m      9\u001b[0m \u001b[0mmat1ord\u001b[0m\u001b[0;34m\u001b[0m\u001b[0;34m\u001b[0m\u001b[0m\n\u001b[1;32m     10\u001b[0m \u001b[0;34m\u001b[0m\u001b[0m\n\u001b[0;32m---> 11\u001b[0;31m \u001b[0mmediana\u001b[0m\u001b[0;34m=\u001b[0m \u001b[0mmat1ord\u001b[0m\u001b[0;34m[\u001b[0m\u001b[0msize\u001b[0m\u001b[0;34m(\u001b[0m\u001b[0mmat1ord\u001b[0m\u001b[0;34m)\u001b[0m\u001b[0;34m/\u001b[0m\u001b[0;36m2\u001b[0m\u001b[0;34m]\u001b[0m\u001b[0;34m\u001b[0m\u001b[0;34m\u001b[0m\u001b[0m\n\u001b[0m",
            "\u001b[0;31mNameError\u001b[0m: name 'size' is not defined"
          ]
        }
      ],
      "source": [
        "mat=np.random.uniform(100,size=(5,5))\n",
        "mat\n",
        "\n",
        "\n",
        "mat1=mat.flatten()\n",
        "mat1\n",
        "\n",
        "mat1ord=np.sort(mat1)\n",
        "mat1ord\n",
        "\n",
        "mediana= mat1ord[size(mat1ord)/2]\n"
      ]
    },
    {
      "cell_type": "markdown",
      "id": "70d0550c",
      "metadata": {
        "id": "70d0550c"
      },
      "source": [
        "Genera dos matrices cuadradas X y Y de tamaño 3×3.\n",
        "\n",
        "Calcula:\n",
        "\n",
        "- Su producto matricial (np.dot o @).\n",
        "\n",
        "- El determinante de X.\n",
        "\n",
        "- El inverso de Y y comprueba que Y @ Y_inv da la identidad.\n",
        "\n",
        "Resuelve el sistema lineal X · v = b para un vector b dado."
      ]
    },
    {
      "cell_type": "code",
      "execution_count": 113,
      "id": "eb7138c0",
      "metadata": {
        "id": "eb7138c0",
        "outputId": "ea090029-3e3b-4543-9e0a-8e82ea0481ec",
        "colab": {
          "base_uri": "https://localhost:8080/"
        }
      },
      "outputs": [
        {
          "output_type": "stream",
          "name": "stdout",
          "text": [
            "[[ 1.00000000e+00  2.37837987e-16 -4.21278911e-16]\n",
            " [ 1.29650910e-15  1.00000000e+00 -2.26418542e-16]\n",
            " [ 4.05306174e-16 -2.24661206e-15  1.00000000e+00]]\n",
            "Lo es\n"
          ]
        }
      ],
      "source": [
        "X=np.random.rand(3,3)\n",
        "Y=np.random.rand(3,3)\n",
        "\n",
        "prod= X @ Y\n",
        "\n",
        "det_X= np.linalg.det(X)\n",
        "\n",
        "inv_Y= np.linalg.inv(Y)\n",
        "\n",
        "identidad= np.eye(3)\n",
        "\n",
        "print(np.dot(Y, inv_Y))\n",
        "\n",
        "if np.allclose(Y@inv_Y, identidad):\n",
        "  print('Lo es')"
      ]
    },
    {
      "cell_type": "markdown",
      "id": "3f0810b9",
      "metadata": {
        "id": "3f0810b9"
      },
      "source": [
        "Generar 10 000 muestras de una distribución normal con media 0 y desviación estándar 1.\n",
        "\n",
        "Mostrar un histograma normalizado de esas muestras con 50 bins.\n",
        "\n",
        "Extra: Superponer la curva teórica de la densidad de la N(0,1) sobre el histograma"
      ]
    },
    {
      "cell_type": "code",
      "execution_count": null,
      "id": "5813235f",
      "metadata": {
        "id": "5813235f"
      },
      "outputs": [],
      "source": []
    }
  ],
  "metadata": {
    "kernelspec": {
      "display_name": "first_try",
      "language": "python",
      "name": "python3"
    },
    "language_info": {
      "codemirror_mode": {
        "name": "ipython",
        "version": 3
      },
      "file_extension": ".py",
      "mimetype": "text/x-python",
      "name": "python",
      "nbconvert_exporter": "python",
      "pygments_lexer": "ipython3",
      "version": "3.9.20"
    },
    "colab": {
      "provenance": []
    }
  },
  "nbformat": 4,
  "nbformat_minor": 5
}