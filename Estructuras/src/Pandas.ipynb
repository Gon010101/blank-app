{
  "cells": [
    {
      "cell_type": "markdown",
      "id": "b8775406",
      "metadata": {
        "id": "b8775406"
      },
      "source": [
        "# Pandas desde cero\n",
        "\n",
        "Aprenderemos la teoría básica de Pandas, cómo crear y manipular Series y DataFrames, funciones útiles y técnicas de indexación y filtrado.\n",
        "\n",
        "---\n",
        "\n",
        "## 1. Introducción y Configuración\n",
        "\n",
        "### 1.1 ¿Qué es Pandas?\n",
        "\n",
        "Pandas es la librería de Python para el análisis y manipulación de datos.  \n",
        "Ofrece estructuras de datos de alto rendimiento como **Series** (1D) y **DataFrame** (2D) con etiquetas en filas y columnas.\n",
        "\n",
        "### 1.2 Instalación e Importación\n",
        "\n",
        "```bash\n",
        "pip install pandas\n"
      ]
    },
    {
      "cell_type": "markdown",
      "source": [
        "# 🧮 Diferencias entre NumPy y pandas\n",
        "\n",
        "En el ecosistema de Python para ciencia de datos, **NumPy** y **pandas** son dos bibliotecas fundamentales. Aunque se complementan, tienen enfoques distintos:\n",
        "\n",
        "---\n",
        "\n",
        "## 🔢 NumPy: Computación Numérica\n",
        "\n",
        "- **Estructura principal:** `ndarray` (matriz multidimensional).\n",
        "- **Datos homogéneos:** Todos los elementos deben ser del mismo tipo (por ejemplo, todos `float64`).\n",
        "- **Ideal para:** Álgebra lineal, estadísticas, simulaciones, procesamiento de imágenes y señales.\n",
        "- **Ventaja clave:** Muy rápido y eficiente en memoria para cálculos numéricos masivos.\n",
        "\n",
        "```python\n",
        "import numpy as np\n",
        "\n",
        "a = np.array([1, 2, 3, 4])\n",
        "print(a.mean())  # Media de los elementos"
      ],
      "metadata": {
        "id": "gQ5tykPgJKyI"
      },
      "id": "gQ5tykPgJKyI"
    },
    {
      "cell_type": "markdown",
      "source": [
        "# 📊 Introducción a pandas\n",
        "\n",
        "**pandas** es una biblioteca de Python diseñada para facilitar el análisis y manipulación de datos estructurados. Es especialmente útil cuando trabajamos con datos tabulares, como hojas de cálculo, archivos CSV o bases de datos.\n",
        "\n",
        "---\n",
        "\n",
        "## 🧱 Estructuras principales\n",
        "\n",
        "- **Series:** Una columna con etiquetas. Similar a un array de NumPy, pero con índice.\n",
        "- **DataFrame:** Una tabla bidimensional con filas y columnas etiquetadas. Es la estructura más usada.\n",
        "\n",
        "```python\n",
        "import pandas as pd\n",
        "\n",
        "# Crear una Series\n",
        "s = pd.Series([10, 20, 30], index=['a', 'b', 'c'])\n",
        "\n",
        "# Crear un DataFrame\n",
        "df = pd.DataFrame({\n",
        "    'Nombre': ['Ana', 'Luis', 'Carlos'],\n",
        "    'Edad': [23, 34, 45]\n",
        "})\n"
      ],
      "metadata": {
        "id": "UuoBn4KGJcA_"
      },
      "id": "UuoBn4KGJcA_"
    },
    {
      "cell_type": "code",
      "execution_count": 1,
      "id": "fd10829d",
      "metadata": {
        "id": "fd10829d",
        "outputId": "254e4d52-92a0-4b1a-9d6d-5929a9a5c22a",
        "colab": {
          "base_uri": "https://localhost:8080/"
        }
      },
      "outputs": [
        {
          "output_type": "stream",
          "name": "stdout",
          "text": [
            "Requirement already satisfied: pandas in /usr/local/lib/python3.12/dist-packages (2.2.2)\n",
            "Requirement already satisfied: numpy>=1.26.0 in /usr/local/lib/python3.12/dist-packages (from pandas) (2.0.2)\n",
            "Requirement already satisfied: python-dateutil>=2.8.2 in /usr/local/lib/python3.12/dist-packages (from pandas) (2.9.0.post0)\n",
            "Requirement already satisfied: pytz>=2020.1 in /usr/local/lib/python3.12/dist-packages (from pandas) (2025.2)\n",
            "Requirement already satisfied: tzdata>=2022.7 in /usr/local/lib/python3.12/dist-packages (from pandas) (2025.2)\n",
            "Requirement already satisfied: six>=1.5 in /usr/local/lib/python3.12/dist-packages (from python-dateutil>=2.8.2->pandas) (1.17.0)\n"
          ]
        }
      ],
      "source": [
        "!pip install pandas"
      ]
    },
    {
      "cell_type": "code",
      "execution_count": 3,
      "id": "72f4cc8d",
      "metadata": {
        "id": "72f4cc8d"
      },
      "outputs": [],
      "source": [
        "import pandas as pd\n"
      ]
    },
    {
      "cell_type": "markdown",
      "id": "646262a7",
      "metadata": {
        "id": "646262a7"
      },
      "source": [
        "## 2. Teoría Básica de Series y DataFrames\n",
        "\n",
        "### 2.1 Estructuras Principales\n",
        "\n",
        "- **Series**: arreglo unidimensional con etiquetas (índice).  \n",
        "- **DataFrame**: tabla bidimensional con filas y columnas etiquetadas.\n",
        "\n",
        "### 2.2 Creación de Series y DataFrames\n"
      ]
    },
    {
      "cell_type": "code",
      "execution_count": 9,
      "id": "864a17f1",
      "metadata": {
        "id": "864a17f1"
      },
      "outputs": [],
      "source": [
        "# Series a partir de lista y diccionario\n",
        "s = pd.Series([10, 20, 30], index=['a', 'b', 'c'])\n",
        "s2 = pd.Series({'x': 1, 'y': 2, 'z': 3})\n",
        "\n",
        "# DataFrame a partir de diccionario de listas\n",
        "df = pd.DataFrame({\n",
        "    'Nombre': ['Ana', 'Luis', 'Eva'],\n",
        "    'Edad': [23, 19, 31],\n",
        "    'Puntaje': [88.5, 92.3, 79.4]\n",
        "})\n",
        "\n",
        "# DataFrame a partir de lista de diccionarios\n",
        "data = [\n",
        "    {'A': 1, 'B': 2, 'C':5},\n",
        "    {'A': 3, 'B': 4}\n",
        "]\n",
        "df2 = pd.DataFrame(data)"
      ]
    },
    {
      "cell_type": "code",
      "source": [
        "print(s)\n",
        "print(s2)\n",
        "print(df)\n",
        "print(df2)"
      ],
      "metadata": {
        "id": "7w3MWDZmSlMq",
        "outputId": "5887edb2-3aa0-4f92-bd38-a4af7ebdf4ce",
        "colab": {
          "base_uri": "https://localhost:8080/"
        }
      },
      "id": "7w3MWDZmSlMq",
      "execution_count": 7,
      "outputs": [
        {
          "output_type": "stream",
          "name": "stdout",
          "text": [
            "a    10\n",
            "b    20\n",
            "c    30\n",
            "dtype: int64\n",
            "x    1\n",
            "y    2\n",
            "z    3\n",
            "dtype: int64\n",
            "  Nombre  Edad  Puntaje\n",
            "0    Ana    23     88.5\n",
            "1   Luis    19     92.3\n",
            "2    Eva    31     79.4\n",
            "   A  B    C\n",
            "0  1  2  NaN\n",
            "1  3  4  5.0\n"
          ]
        }
      ]
    },
    {
      "cell_type": "markdown",
      "source": [],
      "metadata": {
        "id": "VqqSXOx-Sk77"
      },
      "id": "VqqSXOx-Sk77"
    },
    {
      "cell_type": "markdown",
      "source": [],
      "metadata": {
        "id": "jSLXX6CpSkVk"
      },
      "id": "jSLXX6CpSkVk"
    },
    {
      "cell_type": "code",
      "source": [
        "df.columns"
      ],
      "metadata": {
        "id": "gTMWn03STHRv",
        "outputId": "63e2fb7c-9d2c-4580-bbbc-604affc950ee",
        "colab": {
          "base_uri": "https://localhost:8080/"
        }
      },
      "id": "gTMWn03STHRv",
      "execution_count": 10,
      "outputs": [
        {
          "output_type": "execute_result",
          "data": {
            "text/plain": [
              "Index(['Nombre', 'Edad', 'Puntaje'], dtype='object')"
            ]
          },
          "metadata": {},
          "execution_count": 10
        }
      ]
    },
    {
      "cell_type": "markdown",
      "id": "90d68574",
      "metadata": {
        "id": "90d68574"
      },
      "source": [
        "## 3. Atributos Clave de un DataFrame\n",
        "\n",
        "| Atributo     | Descripción                                 |\n",
        "|--------------|---------------------------------------------|\n",
        "| `df.shape`   | Tupla (filas, columnas)                     |\n",
        "| `df.size`    | Número total de elementos                   |\n",
        "| `df.ndim`    | Número de dimensiones (siempre 2 para DF)   |\n",
        "| `df.columns` | Etiquetas de columnas                       |\n",
        "| `df.index`   | Etiquetas de filas                          |\n",
        "| `df.dtypes`  | Tipo de dato de cada columna                |\n",
        "\n",
        "```python"
      ]
    },
    {
      "cell_type": "code",
      "execution_count": 6,
      "id": "f7a06a7e",
      "metadata": {
        "id": "f7a06a7e",
        "outputId": "2a7d7395-88a4-451f-c8c7-96a7841d8fb4",
        "colab": {
          "base_uri": "https://localhost:8080/"
        }
      },
      "outputs": [
        {
          "output_type": "stream",
          "name": "stdout",
          "text": [
            "(3, 3)\n",
            "Index(['Nombre', 'Edad', 'Puntaje'], dtype='object')\n",
            "Nombre      object\n",
            "Edad         int64\n",
            "Puntaje    float64\n",
            "dtype: object\n"
          ]
        }
      ],
      "source": [
        "print(df.shape)\n",
        "print(df.columns)\n",
        "print(df.dtypes)\n"
      ]
    },
    {
      "cell_type": "markdown",
      "id": "02863a41",
      "metadata": {
        "id": "02863a41"
      },
      "source": [
        "## 4. Operaciones Básicas\n",
        "\n",
        "- `df.head(n)`         : primeras *n* filas  \n",
        "- `df.tail(n)`         : últimas *n* filas  \n",
        "- `df.info()`          : resumen de índice, columnas y tipos  \n",
        "- `df.describe()`      : estadísticas descriptivas de columnas numéricas  \n",
        "- `df['col']` o `df.col`: acceso a columna  \n",
        "- `df[['col1','col2']]`: acceso a múltiples columnas  \n",
        "- `df['col'] = ...`    : crear o modificar columna  \n"
      ]
    },
    {
      "cell_type": "code",
      "execution_count": 12,
      "id": "873c9a9a",
      "metadata": {
        "id": "873c9a9a",
        "outputId": "cd92b301-35b3-478d-8f99-0886e6e5cd40",
        "colab": {
          "base_uri": "https://localhost:8080/"
        }
      },
      "outputs": [
        {
          "output_type": "stream",
          "name": "stdout",
          "text": [
            "  Nombre  Edad  Puntaje  Mayor\n",
            "0    Ana    23     88.5   True\n",
            "1   Luis    19     92.3   True\n",
            "2    Eva    31     79.4   True\n",
            "0    23\n",
            "1    19\n",
            "2    31\n",
            "Name: Edad, dtype: int64\n",
            "  Nombre  Edad  Puntaje  Mayor\n",
            "0    Ana    23     88.5   True\n",
            "1   Luis    19     92.3  False\n",
            "2    Eva    31     79.4   True\n"
          ]
        }
      ],
      "source": [
        "# Mostrar las primeras 3 filas\n",
        "print(df.head(3))\n",
        "\n",
        "# Crear y acceder a una columna\n",
        "print(df['Edad'])\n",
        "df['Mayor'] = df['Edad'] >= 20\n",
        "print(df.head(3))"
      ]
    },
    {
      "cell_type": "markdown",
      "id": "9e51aac2",
      "metadata": {
        "id": "9e51aac2"
      },
      "source": [
        "## 5. Funciones Útiles\n",
        "\n",
        "| Función                      | Descripción                                         |\n",
        "|------------------------------|-----------------------------------------------------|\n",
        "| `df.dropna()`                | Elimina filas con valores NA                        |\n",
        "| `df.fillna(valor)`           | Rellena NA con un valor                             |\n",
        "| `df.sort_values(by)`         | Ordena por una o más columnas                       |\n",
        "| `df.groupby(col)`            | Agrupa por columna y permite agregaciones           |\n",
        "| `df.merge(otro, on)`         | Combina dos DataFrames por columna clave            |\n",
        "| `df.apply(func, axis)`       | Aplica función a filas (`axis=1`) o columnas (`axis=0`) |\n",
        "| `pd.concat([df1, df2])`      | Concatena DataFrames                                |\n"
      ]
    },
    {
      "cell_type": "code",
      "execution_count": null,
      "id": "393a83c8",
      "metadata": {
        "id": "393a83c8"
      },
      "outputs": [],
      "source": [
        "# Ejemplo de groupby y agregación\n",
        "df_group = df.groupby('Mayor')['Puntaje'].mean()\n",
        "print(df_group)\n",
        "\n",
        "# Merge de df y df2 por índice\n",
        "df_merged = df.merge(df2, left_index=True, right_index=True, how='left')\n",
        "print(df_merged)\n"
      ]
    },
    {
      "cell_type": "markdown",
      "id": "ba3b987f",
      "metadata": {
        "id": "ba3b987f"
      },
      "source": [
        "## 6. Indexación y Filtrado\n",
        "\n",
        "### 6.1 `.loc` por etiqueta\n",
        "- Selección basada en etiquetas de filas y columnas."
      ]
    },
    {
      "cell_type": "code",
      "execution_count": 17,
      "id": "a7181cb1",
      "metadata": {
        "id": "a7181cb1",
        "outputId": "f979994b-a4c4-45f4-9e5b-2351dbf84db0",
        "colab": {
          "base_uri": "https://localhost:8080/"
        }
      },
      "outputs": [
        {
          "output_type": "stream",
          "name": "stdout",
          "text": [
            "   A  B\n",
            "a  1  2\n",
            "b  3  4\n"
          ]
        }
      ],
      "source": [
        "# Asignamos un índice a df2 para el ejemplo\n",
        "df2.index = ['a', 'b']\n",
        "# Filas 'a' y 'b', columnas 'A' y 'B'\n",
        "print(df2.loc[['a','b'], ['A','B']])\n",
        "\n",
        "### [:,] : = todas\n"
      ]
    },
    {
      "cell_type": "markdown",
      "id": "dd904fb7",
      "metadata": {
        "id": "dd904fb7"
      },
      "source": [
        "### 6.2 `.iloc` por posición\n",
        "- Selección basada en posiciones numéricas."
      ]
    },
    {
      "cell_type": "code",
      "execution_count": 23,
      "id": "bc2184ac",
      "metadata": {
        "id": "bc2184ac",
        "outputId": "6a311da1-5937-4e90-f5e3-02fa1d129380",
        "colab": {
          "base_uri": "https://localhost:8080/",
          "height": 227
        }
      },
      "outputs": [
        {
          "output_type": "stream",
          "name": "stdout",
          "text": [
            "  Nombre  Edad\n",
            "0    Ana    23\n",
            "1   Luis    34\n"
          ]
        },
        {
          "output_type": "execute_result",
          "data": {
            "text/plain": [
              "   Nombre  Edad     Ciudad\n",
              "0     Ana    23     Madrid\n",
              "1    Luis    34  Barcelona\n",
              "2  Carlos    45    Sevilla\n",
              "3   María    29     Bilbao"
            ],
            "text/html": [
              "\n",
              "  <div id=\"df-8faa38d7-689d-46bc-8ae7-35459615a917\" class=\"colab-df-container\">\n",
              "    <div>\n",
              "<style scoped>\n",
              "    .dataframe tbody tr th:only-of-type {\n",
              "        vertical-align: middle;\n",
              "    }\n",
              "\n",
              "    .dataframe tbody tr th {\n",
              "        vertical-align: top;\n",
              "    }\n",
              "\n",
              "    .dataframe thead th {\n",
              "        text-align: right;\n",
              "    }\n",
              "</style>\n",
              "<table border=\"1\" class=\"dataframe\">\n",
              "  <thead>\n",
              "    <tr style=\"text-align: right;\">\n",
              "      <th></th>\n",
              "      <th>Nombre</th>\n",
              "      <th>Edad</th>\n",
              "      <th>Ciudad</th>\n",
              "    </tr>\n",
              "  </thead>\n",
              "  <tbody>\n",
              "    <tr>\n",
              "      <th>0</th>\n",
              "      <td>Ana</td>\n",
              "      <td>23</td>\n",
              "      <td>Madrid</td>\n",
              "    </tr>\n",
              "    <tr>\n",
              "      <th>1</th>\n",
              "      <td>Luis</td>\n",
              "      <td>34</td>\n",
              "      <td>Barcelona</td>\n",
              "    </tr>\n",
              "    <tr>\n",
              "      <th>2</th>\n",
              "      <td>Carlos</td>\n",
              "      <td>45</td>\n",
              "      <td>Sevilla</td>\n",
              "    </tr>\n",
              "    <tr>\n",
              "      <th>3</th>\n",
              "      <td>María</td>\n",
              "      <td>29</td>\n",
              "      <td>Bilbao</td>\n",
              "    </tr>\n",
              "  </tbody>\n",
              "</table>\n",
              "</div>\n",
              "    <div class=\"colab-df-buttons\">\n",
              "\n",
              "  <div class=\"colab-df-container\">\n",
              "    <button class=\"colab-df-convert\" onclick=\"convertToInteractive('df-8faa38d7-689d-46bc-8ae7-35459615a917')\"\n",
              "            title=\"Convert this dataframe to an interactive table.\"\n",
              "            style=\"display:none;\">\n",
              "\n",
              "  <svg xmlns=\"http://www.w3.org/2000/svg\" height=\"24px\" viewBox=\"0 -960 960 960\">\n",
              "    <path d=\"M120-120v-720h720v720H120Zm60-500h600v-160H180v160Zm220 220h160v-160H400v160Zm0 220h160v-160H400v160ZM180-400h160v-160H180v160Zm440 0h160v-160H620v160ZM180-180h160v-160H180v160Zm440 0h160v-160H620v160Z\"/>\n",
              "  </svg>\n",
              "    </button>\n",
              "\n",
              "  <style>\n",
              "    .colab-df-container {\n",
              "      display:flex;\n",
              "      gap: 12px;\n",
              "    }\n",
              "\n",
              "    .colab-df-convert {\n",
              "      background-color: #E8F0FE;\n",
              "      border: none;\n",
              "      border-radius: 50%;\n",
              "      cursor: pointer;\n",
              "      display: none;\n",
              "      fill: #1967D2;\n",
              "      height: 32px;\n",
              "      padding: 0 0 0 0;\n",
              "      width: 32px;\n",
              "    }\n",
              "\n",
              "    .colab-df-convert:hover {\n",
              "      background-color: #E2EBFA;\n",
              "      box-shadow: 0px 1px 2px rgba(60, 64, 67, 0.3), 0px 1px 3px 1px rgba(60, 64, 67, 0.15);\n",
              "      fill: #174EA6;\n",
              "    }\n",
              "\n",
              "    .colab-df-buttons div {\n",
              "      margin-bottom: 4px;\n",
              "    }\n",
              "\n",
              "    [theme=dark] .colab-df-convert {\n",
              "      background-color: #3B4455;\n",
              "      fill: #D2E3FC;\n",
              "    }\n",
              "\n",
              "    [theme=dark] .colab-df-convert:hover {\n",
              "      background-color: #434B5C;\n",
              "      box-shadow: 0px 1px 3px 1px rgba(0, 0, 0, 0.15);\n",
              "      filter: drop-shadow(0px 1px 2px rgba(0, 0, 0, 0.3));\n",
              "      fill: #FFFFFF;\n",
              "    }\n",
              "  </style>\n",
              "\n",
              "    <script>\n",
              "      const buttonEl =\n",
              "        document.querySelector('#df-8faa38d7-689d-46bc-8ae7-35459615a917 button.colab-df-convert');\n",
              "      buttonEl.style.display =\n",
              "        google.colab.kernel.accessAllowed ? 'block' : 'none';\n",
              "\n",
              "      async function convertToInteractive(key) {\n",
              "        const element = document.querySelector('#df-8faa38d7-689d-46bc-8ae7-35459615a917');\n",
              "        const dataTable =\n",
              "          await google.colab.kernel.invokeFunction('convertToInteractive',\n",
              "                                                    [key], {});\n",
              "        if (!dataTable) return;\n",
              "\n",
              "        const docLinkHtml = 'Like what you see? Visit the ' +\n",
              "          '<a target=\"_blank\" href=https://colab.research.google.com/notebooks/data_table.ipynb>data table notebook</a>'\n",
              "          + ' to learn more about interactive tables.';\n",
              "        element.innerHTML = '';\n",
              "        dataTable['output_type'] = 'display_data';\n",
              "        await google.colab.output.renderOutput(dataTable, element);\n",
              "        const docLink = document.createElement('div');\n",
              "        docLink.innerHTML = docLinkHtml;\n",
              "        element.appendChild(docLink);\n",
              "      }\n",
              "    </script>\n",
              "  </div>\n",
              "\n",
              "\n",
              "    <div id=\"df-48007d72-d468-4406-b074-fdc66916823e\">\n",
              "      <button class=\"colab-df-quickchart\" onclick=\"quickchart('df-48007d72-d468-4406-b074-fdc66916823e')\"\n",
              "                title=\"Suggest charts\"\n",
              "                style=\"display:none;\">\n",
              "\n",
              "<svg xmlns=\"http://www.w3.org/2000/svg\" height=\"24px\"viewBox=\"0 0 24 24\"\n",
              "     width=\"24px\">\n",
              "    <g>\n",
              "        <path d=\"M19 3H5c-1.1 0-2 .9-2 2v14c0 1.1.9 2 2 2h14c1.1 0 2-.9 2-2V5c0-1.1-.9-2-2-2zM9 17H7v-7h2v7zm4 0h-2V7h2v10zm4 0h-2v-4h2v4z\"/>\n",
              "    </g>\n",
              "</svg>\n",
              "      </button>\n",
              "\n",
              "<style>\n",
              "  .colab-df-quickchart {\n",
              "      --bg-color: #E8F0FE;\n",
              "      --fill-color: #1967D2;\n",
              "      --hover-bg-color: #E2EBFA;\n",
              "      --hover-fill-color: #174EA6;\n",
              "      --disabled-fill-color: #AAA;\n",
              "      --disabled-bg-color: #DDD;\n",
              "  }\n",
              "\n",
              "  [theme=dark] .colab-df-quickchart {\n",
              "      --bg-color: #3B4455;\n",
              "      --fill-color: #D2E3FC;\n",
              "      --hover-bg-color: #434B5C;\n",
              "      --hover-fill-color: #FFFFFF;\n",
              "      --disabled-bg-color: #3B4455;\n",
              "      --disabled-fill-color: #666;\n",
              "  }\n",
              "\n",
              "  .colab-df-quickchart {\n",
              "    background-color: var(--bg-color);\n",
              "    border: none;\n",
              "    border-radius: 50%;\n",
              "    cursor: pointer;\n",
              "    display: none;\n",
              "    fill: var(--fill-color);\n",
              "    height: 32px;\n",
              "    padding: 0;\n",
              "    width: 32px;\n",
              "  }\n",
              "\n",
              "  .colab-df-quickchart:hover {\n",
              "    background-color: var(--hover-bg-color);\n",
              "    box-shadow: 0 1px 2px rgba(60, 64, 67, 0.3), 0 1px 3px 1px rgba(60, 64, 67, 0.15);\n",
              "    fill: var(--button-hover-fill-color);\n",
              "  }\n",
              "\n",
              "  .colab-df-quickchart-complete:disabled,\n",
              "  .colab-df-quickchart-complete:disabled:hover {\n",
              "    background-color: var(--disabled-bg-color);\n",
              "    fill: var(--disabled-fill-color);\n",
              "    box-shadow: none;\n",
              "  }\n",
              "\n",
              "  .colab-df-spinner {\n",
              "    border: 2px solid var(--fill-color);\n",
              "    border-color: transparent;\n",
              "    border-bottom-color: var(--fill-color);\n",
              "    animation:\n",
              "      spin 1s steps(1) infinite;\n",
              "  }\n",
              "\n",
              "  @keyframes spin {\n",
              "    0% {\n",
              "      border-color: transparent;\n",
              "      border-bottom-color: var(--fill-color);\n",
              "      border-left-color: var(--fill-color);\n",
              "    }\n",
              "    20% {\n",
              "      border-color: transparent;\n",
              "      border-left-color: var(--fill-color);\n",
              "      border-top-color: var(--fill-color);\n",
              "    }\n",
              "    30% {\n",
              "      border-color: transparent;\n",
              "      border-left-color: var(--fill-color);\n",
              "      border-top-color: var(--fill-color);\n",
              "      border-right-color: var(--fill-color);\n",
              "    }\n",
              "    40% {\n",
              "      border-color: transparent;\n",
              "      border-right-color: var(--fill-color);\n",
              "      border-top-color: var(--fill-color);\n",
              "    }\n",
              "    60% {\n",
              "      border-color: transparent;\n",
              "      border-right-color: var(--fill-color);\n",
              "    }\n",
              "    80% {\n",
              "      border-color: transparent;\n",
              "      border-right-color: var(--fill-color);\n",
              "      border-bottom-color: var(--fill-color);\n",
              "    }\n",
              "    90% {\n",
              "      border-color: transparent;\n",
              "      border-bottom-color: var(--fill-color);\n",
              "    }\n",
              "  }\n",
              "</style>\n",
              "\n",
              "      <script>\n",
              "        async function quickchart(key) {\n",
              "          const quickchartButtonEl =\n",
              "            document.querySelector('#' + key + ' button');\n",
              "          quickchartButtonEl.disabled = true;  // To prevent multiple clicks.\n",
              "          quickchartButtonEl.classList.add('colab-df-spinner');\n",
              "          try {\n",
              "            const charts = await google.colab.kernel.invokeFunction(\n",
              "                'suggestCharts', [key], {});\n",
              "          } catch (error) {\n",
              "            console.error('Error during call to suggestCharts:', error);\n",
              "          }\n",
              "          quickchartButtonEl.classList.remove('colab-df-spinner');\n",
              "          quickchartButtonEl.classList.add('colab-df-quickchart-complete');\n",
              "        }\n",
              "        (() => {\n",
              "          let quickchartButtonEl =\n",
              "            document.querySelector('#df-48007d72-d468-4406-b074-fdc66916823e button');\n",
              "          quickchartButtonEl.style.display =\n",
              "            google.colab.kernel.accessAllowed ? 'block' : 'none';\n",
              "        })();\n",
              "      </script>\n",
              "    </div>\n",
              "\n",
              "  <div id=\"id_d6740d4b-57f3-47da-984b-09821941ea48\">\n",
              "    <style>\n",
              "      .colab-df-generate {\n",
              "        background-color: #E8F0FE;\n",
              "        border: none;\n",
              "        border-radius: 50%;\n",
              "        cursor: pointer;\n",
              "        display: none;\n",
              "        fill: #1967D2;\n",
              "        height: 32px;\n",
              "        padding: 0 0 0 0;\n",
              "        width: 32px;\n",
              "      }\n",
              "\n",
              "      .colab-df-generate:hover {\n",
              "        background-color: #E2EBFA;\n",
              "        box-shadow: 0px 1px 2px rgba(60, 64, 67, 0.3), 0px 1px 3px 1px rgba(60, 64, 67, 0.15);\n",
              "        fill: #174EA6;\n",
              "      }\n",
              "\n",
              "      [theme=dark] .colab-df-generate {\n",
              "        background-color: #3B4455;\n",
              "        fill: #D2E3FC;\n",
              "      }\n",
              "\n",
              "      [theme=dark] .colab-df-generate:hover {\n",
              "        background-color: #434B5C;\n",
              "        box-shadow: 0px 1px 3px 1px rgba(0, 0, 0, 0.15);\n",
              "        filter: drop-shadow(0px 1px 2px rgba(0, 0, 0, 0.3));\n",
              "        fill: #FFFFFF;\n",
              "      }\n",
              "    </style>\n",
              "    <button class=\"colab-df-generate\" onclick=\"generateWithVariable('df')\"\n",
              "            title=\"Generate code using this dataframe.\"\n",
              "            style=\"display:none;\">\n",
              "\n",
              "  <svg xmlns=\"http://www.w3.org/2000/svg\" height=\"24px\"viewBox=\"0 0 24 24\"\n",
              "       width=\"24px\">\n",
              "    <path d=\"M7,19H8.4L18.45,9,17,7.55,7,17.6ZM5,21V16.75L18.45,3.32a2,2,0,0,1,2.83,0l1.4,1.43a1.91,1.91,0,0,1,.58,1.4,1.91,1.91,0,0,1-.58,1.4L9.25,21ZM18.45,9,17,7.55Zm-12,3A5.31,5.31,0,0,0,4.9,8.1,5.31,5.31,0,0,0,1,6.5,5.31,5.31,0,0,0,4.9,4.9,5.31,5.31,0,0,0,6.5,1,5.31,5.31,0,0,0,8.1,4.9,5.31,5.31,0,0,0,12,6.5,5.46,5.46,0,0,0,6.5,12Z\"/>\n",
              "  </svg>\n",
              "    </button>\n",
              "    <script>\n",
              "      (() => {\n",
              "      const buttonEl =\n",
              "        document.querySelector('#id_d6740d4b-57f3-47da-984b-09821941ea48 button.colab-df-generate');\n",
              "      buttonEl.style.display =\n",
              "        google.colab.kernel.accessAllowed ? 'block' : 'none';\n",
              "\n",
              "      buttonEl.onclick = () => {\n",
              "        google.colab.notebook.generateWithVariable('df');\n",
              "      }\n",
              "      })();\n",
              "    </script>\n",
              "  </div>\n",
              "\n",
              "    </div>\n",
              "  </div>\n"
            ],
            "application/vnd.google.colaboratory.intrinsic+json": {
              "type": "dataframe",
              "variable_name": "df",
              "summary": "{\n  \"name\": \"df\",\n  \"rows\": 4,\n  \"fields\": [\n    {\n      \"column\": \"Nombre\",\n      \"properties\": {\n        \"dtype\": \"string\",\n        \"num_unique_values\": 4,\n        \"samples\": [\n          \"Luis\",\n          \"Mar\\u00eda\",\n          \"Ana\"\n        ],\n        \"semantic_type\": \"\",\n        \"description\": \"\"\n      }\n    },\n    {\n      \"column\": \"Edad\",\n      \"properties\": {\n        \"dtype\": \"number\",\n        \"std\": 9,\n        \"min\": 23,\n        \"max\": 45,\n        \"num_unique_values\": 4,\n        \"samples\": [\n          34,\n          29,\n          23\n        ],\n        \"semantic_type\": \"\",\n        \"description\": \"\"\n      }\n    },\n    {\n      \"column\": \"Ciudad\",\n      \"properties\": {\n        \"dtype\": \"string\",\n        \"num_unique_values\": 4,\n        \"samples\": [\n          \"Barcelona\",\n          \"Bilbao\",\n          \"Madrid\"\n        ],\n        \"semantic_type\": \"\",\n        \"description\": \"\"\n      }\n    }\n  ]\n}"
            }
          },
          "metadata": {},
          "execution_count": 23
        }
      ],
      "source": [
        "# Filas 0-1, columnas 0-1\n",
        "print(df.iloc[0:2, 0:2])\n",
        "df"
      ]
    },
    {
      "source": [
        "from google.colab import sheets\n",
        "sheet = sheets.InteractiveSheet(df=df)"
      ],
      "cell_type": "code",
      "execution_count": 20,
      "outputs": [
        {
          "output_type": "error",
          "ename": "MessageError",
          "evalue": "Error: credential propagation was unsuccessful",
          "traceback": [
            "\u001b[0;31m---------------------------------------------------------------------------\u001b[0m",
            "\u001b[0;31mMessageError\u001b[0m                              Traceback (most recent call last)",
            "\u001b[0;32m/tmp/ipython-input-1572743936.py\u001b[0m in \u001b[0;36m<cell line: 0>\u001b[0;34m()\u001b[0m\n\u001b[1;32m      1\u001b[0m \u001b[0;32mfrom\u001b[0m \u001b[0mgoogle\u001b[0m\u001b[0;34m.\u001b[0m\u001b[0mcolab\u001b[0m \u001b[0;32mimport\u001b[0m \u001b[0msheets\u001b[0m\u001b[0;34m\u001b[0m\u001b[0;34m\u001b[0m\u001b[0m\n\u001b[0;32m----> 2\u001b[0;31m \u001b[0msheet\u001b[0m \u001b[0;34m=\u001b[0m \u001b[0msheets\u001b[0m\u001b[0;34m.\u001b[0m\u001b[0mInteractiveSheet\u001b[0m\u001b[0;34m(\u001b[0m\u001b[0mdf\u001b[0m\u001b[0;34m=\u001b[0m\u001b[0mdf\u001b[0m\u001b[0;34m)\u001b[0m\u001b[0;34m\u001b[0m\u001b[0;34m\u001b[0m\u001b[0m\n\u001b[0m",
            "\u001b[0;32m/usr/local/lib/python3.12/dist-packages/google/colab/sheets.py\u001b[0m in \u001b[0;36m__init__\u001b[0;34m(self, title, url, sheet_id, df, worksheet_id, worksheet_name, credentials, include_column_headers, display, backend)\u001b[0m\n\u001b[1;32m    147\u001b[0m       \u001b[0murl\u001b[0m \u001b[0;34m=\u001b[0m \u001b[0;34mf'https://docs.google.com/spreadsheets/d/{sheet_id}'\u001b[0m\u001b[0;34m\u001b[0m\u001b[0;34m\u001b[0m\u001b[0m\n\u001b[1;32m    148\u001b[0m     \u001b[0mself\u001b[0m\u001b[0;34m.\u001b[0m\u001b[0m_credentials\u001b[0m \u001b[0;34m=\u001b[0m \u001b[0mcredentials\u001b[0m\u001b[0;34m\u001b[0m\u001b[0;34m\u001b[0m\u001b[0m\n\u001b[0;32m--> 149\u001b[0;31m     \u001b[0mself\u001b[0m\u001b[0;34m.\u001b[0m\u001b[0m_ensure_gspread_client\u001b[0m\u001b[0;34m(\u001b[0m\u001b[0;34m)\u001b[0m\u001b[0;34m\u001b[0m\u001b[0;34m\u001b[0m\u001b[0m\n\u001b[0m\u001b[1;32m    150\u001b[0m \u001b[0;34m\u001b[0m\u001b[0m\n\u001b[1;32m    151\u001b[0m     \u001b[0mself\u001b[0m\u001b[0;34m.\u001b[0m\u001b[0msheet\u001b[0m \u001b[0;34m=\u001b[0m \u001b[0mself\u001b[0m\u001b[0;34m.\u001b[0m\u001b[0m_load_or_create_sheet\u001b[0m\u001b[0;34m(\u001b[0m\u001b[0murl\u001b[0m\u001b[0;34m,\u001b[0m \u001b[0mtitle\u001b[0m\u001b[0;34m)\u001b[0m\u001b[0;34m\u001b[0m\u001b[0;34m\u001b[0m\u001b[0m\n",
            "\u001b[0;32m/usr/local/lib/python3.12/dist-packages/google/colab/sheets.py\u001b[0m in \u001b[0;36m_ensure_gspread_client\u001b[0;34m(self)\u001b[0m\n\u001b[1;32m    217\u001b[0m     \u001b[0;32mglobal\u001b[0m \u001b[0m_gspread_client\u001b[0m\u001b[0;34m\u001b[0m\u001b[0;34m\u001b[0m\u001b[0m\n\u001b[1;32m    218\u001b[0m     \u001b[0;32mif\u001b[0m \u001b[0m_gspread_client\u001b[0m \u001b[0;32mis\u001b[0m \u001b[0;32mNone\u001b[0m\u001b[0;34m:\u001b[0m\u001b[0;34m\u001b[0m\u001b[0;34m\u001b[0m\u001b[0m\n\u001b[0;32m--> 219\u001b[0;31m       \u001b[0mcreds\u001b[0m \u001b[0;34m=\u001b[0m \u001b[0mInteractiveSheet\u001b[0m\u001b[0;34m.\u001b[0m\u001b[0mgenerate_creds\u001b[0m\u001b[0;34m(\u001b[0m\u001b[0mself\u001b[0m\u001b[0;34m.\u001b[0m\u001b[0m_credentials\u001b[0m\u001b[0;34m)\u001b[0m\u001b[0;34m\u001b[0m\u001b[0;34m\u001b[0m\u001b[0m\n\u001b[0m\u001b[1;32m    220\u001b[0m       \u001b[0m_gspread_client\u001b[0m \u001b[0;34m=\u001b[0m \u001b[0mgspread\u001b[0m\u001b[0;34m.\u001b[0m\u001b[0mauthorize\u001b[0m\u001b[0;34m(\u001b[0m\u001b[0mcreds\u001b[0m\u001b[0;34m)\u001b[0m\u001b[0;34m\u001b[0m\u001b[0;34m\u001b[0m\u001b[0m\n\u001b[1;32m    221\u001b[0m \u001b[0;34m\u001b[0m\u001b[0m\n",
            "\u001b[0;32m/usr/local/lib/python3.12/dist-packages/google/colab/sheets.py\u001b[0m in \u001b[0;36mgenerate_creds\u001b[0;34m(cls, credentials)\u001b[0m\n\u001b[1;32m    222\u001b[0m   \u001b[0;34m@\u001b[0m\u001b[0mclassmethod\u001b[0m\u001b[0;34m\u001b[0m\u001b[0;34m\u001b[0m\u001b[0m\n\u001b[1;32m    223\u001b[0m   \u001b[0;32mdef\u001b[0m \u001b[0mgenerate_creds\u001b[0m\u001b[0;34m(\u001b[0m\u001b[0mcls\u001b[0m\u001b[0;34m,\u001b[0m \u001b[0mcredentials\u001b[0m\u001b[0;34m=\u001b[0m\u001b[0;32mNone\u001b[0m\u001b[0;34m)\u001b[0m\u001b[0;34m:\u001b[0m\u001b[0;34m\u001b[0m\u001b[0;34m\u001b[0m\u001b[0m\n\u001b[0;32m--> 224\u001b[0;31m     \u001b[0;32mreturn\u001b[0m \u001b[0m_generate_creds\u001b[0m\u001b[0;34m(\u001b[0m\u001b[0mcredentials\u001b[0m\u001b[0;34m)\u001b[0m\u001b[0;34m\u001b[0m\u001b[0;34m\u001b[0m\u001b[0m\n\u001b[0m\u001b[1;32m    225\u001b[0m \u001b[0;34m\u001b[0m\u001b[0m\n\u001b[1;32m    226\u001b[0m   \u001b[0;32mdef\u001b[0m \u001b[0mas_df\u001b[0m\u001b[0;34m(\u001b[0m\u001b[0mself\u001b[0m\u001b[0;34m,\u001b[0m \u001b[0mrange_name\u001b[0m\u001b[0;34m=\u001b[0m\u001b[0;32mNone\u001b[0m\u001b[0;34m)\u001b[0m\u001b[0;34m:\u001b[0m\u001b[0;34m\u001b[0m\u001b[0;34m\u001b[0m\u001b[0m\n",
            "\u001b[0;32m/usr/local/lib/python3.12/dist-packages/google/colab/sheets.py\u001b[0m in \u001b[0;36m_generate_creds\u001b[0;34m(unused_credentials)\u001b[0m\n\u001b[1;32m     40\u001b[0m \u001b[0;34m\u001b[0m\u001b[0m\n\u001b[1;32m     41\u001b[0m \u001b[0;32mdef\u001b[0m \u001b[0m_generate_creds\u001b[0m\u001b[0;34m(\u001b[0m\u001b[0munused_credentials\u001b[0m\u001b[0;34m=\u001b[0m\u001b[0;32mNone\u001b[0m\u001b[0;34m)\u001b[0m\u001b[0;34m:\u001b[0m\u001b[0;34m\u001b[0m\u001b[0;34m\u001b[0m\u001b[0m\n\u001b[0;32m---> 42\u001b[0;31m   \u001b[0mauth\u001b[0m\u001b[0;34m.\u001b[0m\u001b[0mauthenticate_user\u001b[0m\u001b[0;34m(\u001b[0m\u001b[0;34m)\u001b[0m\u001b[0;34m\u001b[0m\u001b[0;34m\u001b[0m\u001b[0m\n\u001b[0m\u001b[1;32m     43\u001b[0m   scopes = (\n\u001b[1;32m     44\u001b[0m       \u001b[0;34m'https://www.googleapis.com/auth/drive'\u001b[0m\u001b[0;34m,\u001b[0m\u001b[0;34m\u001b[0m\u001b[0;34m\u001b[0m\u001b[0m\n",
            "\u001b[0;32m/usr/local/lib/python3.12/dist-packages/google/colab/auth.py\u001b[0m in \u001b[0;36mauthenticate_user\u001b[0;34m(clear_output, project_id)\u001b[0m\n\u001b[1;32m    258\u001b[0m   \u001b[0;32mif\u001b[0m \u001b[0;32mnot\u001b[0m \u001b[0m_check_adc\u001b[0m\u001b[0;34m(\u001b[0m\u001b[0m_CredentialType\u001b[0m\u001b[0;34m.\u001b[0m\u001b[0mUSER\u001b[0m\u001b[0;34m)\u001b[0m\u001b[0;34m:\u001b[0m\u001b[0;34m\u001b[0m\u001b[0;34m\u001b[0m\u001b[0m\n\u001b[1;32m    259\u001b[0m     \u001b[0;32mif\u001b[0m \u001b[0muse_auth_ephem\u001b[0m\u001b[0;34m:\u001b[0m\u001b[0;34m\u001b[0m\u001b[0;34m\u001b[0m\u001b[0m\n\u001b[0;32m--> 260\u001b[0;31m       _message.blocking_request(\n\u001b[0m\u001b[1;32m    261\u001b[0m           \u001b[0;34m'request_auth'\u001b[0m\u001b[0;34m,\u001b[0m\u001b[0;34m\u001b[0m\u001b[0;34m\u001b[0m\u001b[0m\n\u001b[1;32m    262\u001b[0m           \u001b[0mrequest\u001b[0m\u001b[0;34m=\u001b[0m\u001b[0;34m{\u001b[0m\u001b[0;34m'authType'\u001b[0m\u001b[0;34m:\u001b[0m \u001b[0;34m'auth_user_ephemeral'\u001b[0m\u001b[0;34m}\u001b[0m\u001b[0;34m,\u001b[0m\u001b[0;34m\u001b[0m\u001b[0;34m\u001b[0m\u001b[0m\n",
            "\u001b[0;32m/usr/local/lib/python3.12/dist-packages/google/colab/_message.py\u001b[0m in \u001b[0;36mblocking_request\u001b[0;34m(request_type, request, timeout_sec, parent)\u001b[0m\n\u001b[1;32m    174\u001b[0m       \u001b[0mrequest_type\u001b[0m\u001b[0;34m,\u001b[0m \u001b[0mrequest\u001b[0m\u001b[0;34m,\u001b[0m \u001b[0mparent\u001b[0m\u001b[0;34m=\u001b[0m\u001b[0mparent\u001b[0m\u001b[0;34m,\u001b[0m \u001b[0mexpect_reply\u001b[0m\u001b[0;34m=\u001b[0m\u001b[0;32mTrue\u001b[0m\u001b[0;34m\u001b[0m\u001b[0;34m\u001b[0m\u001b[0m\n\u001b[1;32m    175\u001b[0m   )\n\u001b[0;32m--> 176\u001b[0;31m   \u001b[0;32mreturn\u001b[0m \u001b[0mread_reply_from_input\u001b[0m\u001b[0;34m(\u001b[0m\u001b[0mrequest_id\u001b[0m\u001b[0;34m,\u001b[0m \u001b[0mtimeout_sec\u001b[0m\u001b[0;34m)\u001b[0m\u001b[0;34m\u001b[0m\u001b[0;34m\u001b[0m\u001b[0m\n\u001b[0m",
            "\u001b[0;32m/usr/local/lib/python3.12/dist-packages/google/colab/_message.py\u001b[0m in \u001b[0;36mread_reply_from_input\u001b[0;34m(message_id, timeout_sec)\u001b[0m\n\u001b[1;32m    101\u001b[0m     ):\n\u001b[1;32m    102\u001b[0m       \u001b[0;32mif\u001b[0m \u001b[0;34m'error'\u001b[0m \u001b[0;32min\u001b[0m \u001b[0mreply\u001b[0m\u001b[0;34m:\u001b[0m\u001b[0;34m\u001b[0m\u001b[0;34m\u001b[0m\u001b[0m\n\u001b[0;32m--> 103\u001b[0;31m         \u001b[0;32mraise\u001b[0m \u001b[0mMessageError\u001b[0m\u001b[0;34m(\u001b[0m\u001b[0mreply\u001b[0m\u001b[0;34m[\u001b[0m\u001b[0;34m'error'\u001b[0m\u001b[0;34m]\u001b[0m\u001b[0;34m)\u001b[0m\u001b[0;34m\u001b[0m\u001b[0;34m\u001b[0m\u001b[0m\n\u001b[0m\u001b[1;32m    104\u001b[0m       \u001b[0;32mreturn\u001b[0m \u001b[0mreply\u001b[0m\u001b[0;34m.\u001b[0m\u001b[0mget\u001b[0m\u001b[0;34m(\u001b[0m\u001b[0;34m'data'\u001b[0m\u001b[0;34m,\u001b[0m \u001b[0;32mNone\u001b[0m\u001b[0;34m)\u001b[0m\u001b[0;34m\u001b[0m\u001b[0;34m\u001b[0m\u001b[0m\n\u001b[1;32m    105\u001b[0m \u001b[0;34m\u001b[0m\u001b[0m\n",
            "\u001b[0;31mMessageError\u001b[0m: Error: credential propagation was unsuccessful"
          ]
        }
      ],
      "metadata": {
        "cellView": "form",
        "id": "lEoZl2WpW9UX",
        "outputId": "217cde67-27f3-4288-ad3b-0fe056fccd06",
        "colab": {
          "base_uri": "https://localhost:8080/",
          "height": 304
        }
      },
      "id": "lEoZl2WpW9UX"
    },
    {
      "cell_type": "markdown",
      "id": "29982ca2",
      "metadata": {
        "id": "29982ca2"
      },
      "source": [
        "### 6.3 Filtrado booleano\n",
        "- Usar condiciones para filtrar filas."
      ]
    },
    {
      "cell_type": "code",
      "execution_count": 21,
      "id": "15fe40f3",
      "metadata": {
        "id": "15fe40f3",
        "outputId": "76f9bd7c-9f35-4c7b-b847-4284a69a6621",
        "colab": {
          "base_uri": "https://localhost:8080/"
        }
      },
      "outputs": [
        {
          "output_type": "stream",
          "name": "stdout",
          "text": [
            "  Nombre  Edad  Puntaje  Mayor\n",
            "2    Eva    31     79.4   True\n",
            "  Nombre  Edad  Puntaje  Mayor\n",
            "0    Ana    23     88.5   True\n"
          ]
        }
      ],
      "source": [
        "# Filtrar mayores de 25 años\n",
        "print(df[df['Edad'] > 25])\n",
        "\n",
        "# Varias condiciones combinadas\n",
        "print(df[(df['Edad'] > 20) & (df['Puntaje'] > 80)])\n"
      ]
    },
    {
      "cell_type": "markdown",
      "source": [
        "## Ejercicios\n"
      ],
      "metadata": {
        "id": "O6vaPaBJKTUJ"
      },
      "id": "O6vaPaBJKTUJ"
    },
    {
      "cell_type": "code",
      "source": [
        "import pandas as pd\n",
        "\n",
        "data = {\n",
        "    'Nombre': ['Ana', 'Luis', 'Carlos', 'María'],\n",
        "    'Edad': [23, 34, 45, 29],\n",
        "    'Ciudad': ['Madrid', 'Barcelona', 'Sevilla', 'Bilbao']\n",
        "}\n",
        "\n",
        "df = pd.DataFrame(data)\n",
        "\n",
        "print(df)"
      ],
      "metadata": {
        "id": "iCc2txyQKVOx",
        "outputId": "94cfc2b6-8c14-4270-8d17-e98cd2790337",
        "colab": {
          "base_uri": "https://localhost:8080/"
        }
      },
      "id": "iCc2txyQKVOx",
      "execution_count": 30,
      "outputs": [
        {
          "output_type": "stream",
          "name": "stdout",
          "text": [
            "   Nombre  Edad     Ciudad\n",
            "0     Ana    23     Madrid\n",
            "1    Luis    34  Barcelona\n",
            "2  Carlos    45    Sevilla\n",
            "3   María    29     Bilbao\n"
          ]
        }
      ]
    },
    {
      "cell_type": "markdown",
      "source": [
        "- Selecciona solo las filas donde la edad sea mayor de 30.\n",
        "\n",
        "- Extrae la segunda fila usando .iloc.\n",
        "\n",
        "- Muestra solo las columnas \"Nombre\" y \"Edad\"."
      ],
      "metadata": {
        "id": "Tj6DLv94_jJE"
      },
      "id": "Tj6DLv94_jJE"
    },
    {
      "cell_type": "code",
      "source": [
        "print(df[df['Edad'] > 30])\n",
        "\n",
        "print(df.loc[1])\n",
        "\n",
        "print(df.loc[:,['Nombre','Edad']])\n",
        "\n",
        "\n"
      ],
      "metadata": {
        "id": "5w4LzGgeKbwc",
        "outputId": "910f7113-07d8-4568-ff18-85c123fb3566",
        "colab": {
          "base_uri": "https://localhost:8080/"
        }
      },
      "id": "5w4LzGgeKbwc",
      "execution_count": 34,
      "outputs": [
        {
          "output_type": "stream",
          "name": "stdout",
          "text": [
            "   Nombre  Edad     Ciudad\n",
            "1    Luis    34  Barcelona\n",
            "2  Carlos    45    Sevilla\n",
            "Nombre         Luis\n",
            "Edad             34\n",
            "Ciudad    Barcelona\n",
            "Name: 1, dtype: object\n",
            "   Nombre  Edad\n",
            "0     Ana    23\n",
            "1    Luis    34\n",
            "2  Carlos    45\n",
            "3   María    29\n"
          ]
        }
      ]
    },
    {
      "cell_type": "markdown",
      "source": [
        "- Calcula la edad media.\n",
        "\n",
        "- Muestra un resumen estadístico del DataFrame.\n",
        "\n",
        "- Cuenta cuántas personas hay por ciudad."
      ],
      "metadata": {
        "id": "P-HT7PGY_xQ1"
      },
      "id": "P-HT7PGY_xQ1"
    },
    {
      "cell_type": "code",
      "source": [
        "import numpy as np\n",
        "\n",
        "\n",
        "edad = df['Edad']\n",
        "print(edad.mean())\n",
        "\n",
        "print(df.describe())\n",
        "\n",
        "print(df['Ciudad'].value_counts())\n",
        "\n",
        "print(df.groupby('Ciudad')['Nombre'].count())\n",
        "\n"
      ],
      "metadata": {
        "id": "qo4EGU_MKjks",
        "outputId": "363e4cc7-ade7-41b5-efe7-fdbc7d8559cd",
        "colab": {
          "base_uri": "https://localhost:8080/"
        }
      },
      "id": "qo4EGU_MKjks",
      "execution_count": 47,
      "outputs": [
        {
          "output_type": "stream",
          "name": "stdout",
          "text": [
            "32.75\n",
            "            Edad\n",
            "count   4.000000\n",
            "mean   32.750000\n",
            "std     9.322911\n",
            "min    23.000000\n",
            "25%    27.500000\n",
            "50%    31.500000\n",
            "75%    36.750000\n",
            "max    45.000000\n",
            "Ciudad\n",
            "Madrid       1\n",
            "Barcelona    1\n",
            "Sevilla      1\n",
            "Bilbao       1\n",
            "Name: count, dtype: int64\n",
            "Ciudad\n",
            "Barcelona    1\n",
            "Bilbao       1\n",
            "Madrid       1\n",
            "Sevilla      1\n",
            "Name: Nombre, dtype: int64\n"
          ]
        }
      ]
    },
    {
      "cell_type": "markdown",
      "source": [
        "Usaremos el dataset de iris desde la biblioteca seaborn, que lo carga como DataFrame\n",
        "\n",
        "- Muestra cuántas especies distintas hay.\n",
        "\n",
        "- Calcula la media del largo del pétalo por especie.\n",
        "\n",
        "- Guarda el DataFrame en un CSV con iris.to_csv('iris.csv', index=False)"
      ],
      "metadata": {
        "id": "4m5USEwv_85P"
      },
      "id": "4m5USEwv_85P"
    },
    {
      "cell_type": "code",
      "source": [
        "import seaborn as sns\n",
        "\n",
        "iris = sns.load_dataset('iris')\n",
        "print(iris.head())\n",
        "print(type(iris))\n",
        "\n",
        "print(iris['species'].nunique())\n",
        "print(iris['species'].unique())\n",
        "\n",
        "longitud = iris['petal_length']\n",
        "print(longitud.mean())\n",
        "\n",
        "print(iris.groupby('species')['petal_length'].mean())\n",
        "\n",
        "print(iris.iloc[:,:-1].std())\n",
        "\n",
        "\n"
      ],
      "metadata": {
        "id": "XC-Iv8ITKlXV",
        "outputId": "335d4a69-8c45-4baa-ce9f-9d006f433034",
        "colab": {
          "base_uri": "https://localhost:8080/"
        }
      },
      "id": "XC-Iv8ITKlXV",
      "execution_count": 60,
      "outputs": [
        {
          "output_type": "stream",
          "name": "stdout",
          "text": [
            "   sepal_length  sepal_width  petal_length  petal_width species\n",
            "0           5.1          3.5           1.4          0.2  setosa\n",
            "1           4.9          3.0           1.4          0.2  setosa\n",
            "2           4.7          3.2           1.3          0.2  setosa\n",
            "3           4.6          3.1           1.5          0.2  setosa\n",
            "4           5.0          3.6           1.4          0.2  setosa\n",
            "<class 'pandas.core.frame.DataFrame'>\n",
            "3\n",
            "['setosa' 'versicolor' 'virginica']\n",
            "3.7580000000000005\n",
            "species\n",
            "setosa        1.462\n",
            "versicolor    4.260\n",
            "virginica     5.552\n",
            "Name: petal_length, dtype: float64\n",
            "sepal_length    0.828066\n",
            "sepal_width     0.435866\n",
            "petal_length    1.765298\n",
            "petal_width     0.762238\n",
            "dtype: float64\n"
          ]
        }
      ]
    },
    {
      "cell_type": "code",
      "source": [
        "iris.to_csv('iris.csv', index=False)\n"
      ],
      "metadata": {
        "id": "-AofkhPOKl7j"
      },
      "id": "-AofkhPOKl7j",
      "execution_count": 62,
      "outputs": []
    },
    {
      "cell_type": "code",
      "source": [
        "iris_desde_csv =pd.read_csv('iris.csv')"
      ],
      "metadata": {
        "id": "puoHiDVmj7PC"
      },
      "id": "puoHiDVmj7PC",
      "execution_count": 63,
      "outputs": []
    },
    {
      "cell_type": "markdown",
      "id": "1c8b3502",
      "metadata": {
        "id": "1c8b3502"
      },
      "source": [
        "## Práctica\n",
        "\n",
        "1. Crea un DataFrame con las ventas diarias (columna `Ventas`) de 7 días y calcula la suma, media, mínima y máxima.  \n",
        "2. Añade una columna `Descuento` con valor 5% y calcula `Venta_Neta`.  \n",
        "3. Carga un CSV de ejemplo con `pd.read_csv()`, muestra sus 5 primeros registros y tipos de datos.  \n",
        "4. Agrupa un DataFrame de transacciones por `Cliente` y calcula el total de compra por cliente.\n"
      ]
    },
    {
      "cell_type": "code",
      "source": [
        "import pandas as pd\n",
        "import numpy as np\n",
        "\n",
        "\n",
        "ventas = pd.DataFrame({\n",
        "    'Ventas': [30,50,20,30,100,120,80]\n",
        "})\n",
        "\n",
        "#print(ventas)\n",
        "\n",
        "#print(ventas.describe())\n",
        "\n",
        "#suma=ventas.sum()\n",
        "#print(suma)\n",
        "\n",
        "#ventas['Descuento']=0.05*ventas\n",
        "\n",
        "#print(ventas)\n",
        "\n",
        "days=np.arange(1,8)\n",
        "#ventas= pd.DataFrame(np.random.randint(10,800,7),index=days)\n",
        "#ventas.rename(columns={0: 'Ventas'})\n",
        "\n",
        "np.random.seed(2)\n",
        "\n",
        "fechas = pd.date_range(start='2025-9-16',periods=7, freq='D')\n",
        "ventas = np.random.randint(10,800,7)\n",
        "df_ventas=pd.DataFrame({'Ventas': ventas},index=fechas) #o days\n",
        "print(df_ventas)\n",
        "\n",
        "print(\"Media:\", df_ventas['Ventas'].mean())\n",
        "print(\"Minimo:\", df_ventas['Ventas'].min())\n",
        "print(\"Maximo:\", df_ventas['Ventas'].max())\n",
        "print(\"Suma:\", df_ventas['Ventas'].sum())"
      ],
      "metadata": {
        "id": "BWJOPmwokK1L",
        "outputId": "29d555b9-82c1-463a-ad3a-42e2e4a04803",
        "colab": {
          "base_uri": "https://localhost:8080/"
        }
      },
      "id": "BWJOPmwokK1L",
      "execution_count": 78,
      "outputs": [
        {
          "output_type": "stream",
          "name": "stdout",
          "text": [
            "            Ventas\n",
            "2025-09-16     178\n",
            "2025-09-17     537\n",
            "2025-09-18     503\n",
            "2025-09-19     594\n",
            "2025-09-20     544\n",
            "2025-09-21     309\n",
            "2025-09-22     476\n",
            "Media: 448.7142857142857\n",
            "Minimo: 178\n",
            "Maximo: 594\n",
            "Suma: 3141\n"
          ]
        }
      ]
    },
    {
      "cell_type": "code",
      "source": [
        "df_ventas['Descuento'] = df_ventas['Ventas'] * 0.05\n",
        "df_ventas['Venta neta']=df_ventas['Ventas'] -df_ventas['Descuento']\n",
        "df_ventas\n",
        "\n",
        "url = \"https://people.sc.fsu.edu/~jburkardt/data/csv/hw_200.csv\"\n",
        "df_csv = pd.read_csv(url)"
      ],
      "metadata": {
        "id": "c2ObAVdjqOgA"
      },
      "id": "c2ObAVdjqOgA",
      "execution_count": 83,
      "outputs": []
    }
  ],
  "metadata": {
    "kernelspec": {
      "display_name": "first_try",
      "language": "python",
      "name": "python3"
    },
    "language_info": {
      "codemirror_mode": {
        "name": "ipython",
        "version": 3
      },
      "file_extension": ".py",
      "mimetype": "text/x-python",
      "name": "python",
      "nbconvert_exporter": "python",
      "pygments_lexer": "ipython3",
      "version": "3.13.7"
    },
    "colab": {
      "provenance": []
    }
  },
  "nbformat": 4,
  "nbformat_minor": 5
}